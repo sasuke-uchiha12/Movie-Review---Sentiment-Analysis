{
 "cells": [
  {
   "cell_type": "code",
   "execution_count": 4,
   "id": "4086a6ed",
   "metadata": {},
   "outputs": [],
   "source": [
    "from textblob import TextBlob"
   ]
  },
  {
   "cell_type": "code",
   "execution_count": 2,
   "id": "77476232",
   "metadata": {},
   "outputs": [],
   "source": [
    "from flask import Flask"
   ]
  },
  {
   "cell_type": "code",
   "execution_count": 3,
   "id": "19055fc2",
   "metadata": {},
   "outputs": [],
   "source": [
    "from flask import request"
   ]
  },
  {
   "cell_type": "code",
   "execution_count": 5,
   "id": "4da6099b",
   "metadata": {},
   "outputs": [],
   "source": [
    "def analyze_sentiment(text):\n",
    "    \"\"\"\n",
    "    Analyzes the sentiment of the input text using TextBlob.\n",
    "    Returns 'positive' if sentiment polarity > 0, 'negative' if sentiment polarity < 0,\n",
    "    and 'neutral' if sentiment polarity == 0.\n",
    "    \"\"\"\n",
    "    analysis = TextBlob(text)\n",
    "    sentiment_polarity = analysis.sentiment.polarity\n",
    "    print(\"sentiment_polarity: \" ,sentiment_polarity)\n",
    "    if sentiment_polarity > 0:\n",
    "        return 'positive'\n",
    "    elif sentiment_polarity < 0:\n",
    "        return 'negative'\n",
    "    else:\n",
    "        return 'neutral'"
   ]
  },
  {
   "cell_type": "code",
   "execution_count": 6,
   "id": "1a3bdb76",
   "metadata": {},
   "outputs": [],
   "source": [
    "# Input movie review text\n",
    "review_text = input(\"Enter movie review text: \")"
   ]
  },
  {
   "cell_type": "code",
   "execution_count": 7,
   "id": "bf52a19a",
   "metadata": {},
   "outputs": [
    {
     "name": "stdout",
     "output_type": "stream",
     "text": [
      "sentiment_polarity:  1.0\n"
     ]
    }
   ],
   "source": [
    "# Analyze sentiment of the movie review\n",
    "sentiment = analyze_sentiment(review_text)"
   ]
  },
  {
   "cell_type": "code",
   "execution_count": 8,
   "id": "a051c225",
   "metadata": {},
   "outputs": [
    {
     "name": "stdout",
     "output_type": "stream",
     "text": [
      "Sentiment: positive\n"
     ]
    }
   ],
   "source": [
    "# Print tShe sentiment result\n",
    "print(\"Sentiment: \" + sentiment)"
   ]
  },
  {
   "cell_type": "code",
   "execution_count": null,
   "id": "cff36e2b",
   "metadata": {},
   "outputs": [],
   "source": []
  },
  {
   "cell_type": "code",
   "execution_count": null,
   "id": "bee26b65",
   "metadata": {},
   "outputs": [],
   "source": []
  }
 ],
 "metadata": {
  "kernelspec": {
   "display_name": "Python 3 (ipykernel)",
   "language": "python",
   "name": "python3"
  },
  "language_info": {
   "codemirror_mode": {
    "name": "ipython",
    "version": 3
   },
   "file_extension": ".py",
   "mimetype": "text/x-python",
   "name": "python",
   "nbconvert_exporter": "python",
   "pygments_lexer": "ipython3",
   "version": "3.10.7"
  }
 },
 "nbformat": 4,
 "nbformat_minor": 5
}
