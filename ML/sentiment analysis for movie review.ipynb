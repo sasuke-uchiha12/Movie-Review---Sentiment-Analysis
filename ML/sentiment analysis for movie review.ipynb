{
 "cells": [
  {
   "cell_type": "code",
   "execution_count": null,
   "id": "4086a6ed",
   "metadata": {},
   "outputs": [],
   "source": [
    "from textblob import TextBlob"
   ]
  },
  {
   "cell_type": "code",
   "execution_count": 2,
   "id": "77476232",
   "metadata": {},
   "outputs": [],
   "source": [
    "from flask import Flask"
   ]
  },
  {
   "cell_type": "code",
   "execution_count": 3,
   "id": "19055fc2",
   "metadata": {},
   "outputs": [],
   "source": [
    "from flask import request"
   ]
  },
  {
   "cell_type": "code",
   "execution_count": 5,
   "id": "4da6099b",
   "metadata": {},
   "outputs": [],
   "source": [
    "def analyze_sentiment(text):\n",
    "    \"\"\"\n",
    "    Analyzes the sentiment of the input text using TextBlob.\n",
    "    Returns 'positive' if sentiment polarity > 0, 'negative' if sentiment polarity < 0,\n",
    "    and 'neutral' if sentiment polarity == 0.\n",
    "    \"\"\"\n",
    "    analysis = TextBlob(text)\n",
    "    sentiment_polarity = analysis.sentiment.polarity\n",
    "    print(\"sentiment_polarity: \" ,sentiment_polarity)\n",
    "    if sentiment_polarity > 0:\n",
    "        return 'positive'\n",
    "    elif sentiment_polarity < 0:\n",
    "        return 'negative'\n",
    "    else:\n",
    "        return 'neutral'"
   ]
  },
  {
   "cell_type": "code",
   "execution_count": 1,
   "id": "1a3bdb76",
   "metadata": {},
   "outputs": [],
   "source": [
    "# Input movie review text\n",
    "review_text = input(\"Enter movie review text: \")"
   ]
  },
  {
   "cell_type": "code",
   "execution_count": 2,
   "id": "bf52a19a",
   "metadata": {},
   "outputs": [
    {
     "ename": "NameError",
     "evalue": "name 'analyze_sentiment' is not defined",
     "output_type": "error",
     "traceback": [
      "\u001b[1;31m---------------------------------------------------------------------------\u001b[0m",
      "\u001b[1;31mNameError\u001b[0m                                 Traceback (most recent call last)",
      "\u001b[1;32m~\\AppData\\Local\\Temp\\ipykernel_12396\\1595166340.py\u001b[0m in \u001b[0;36m<module>\u001b[1;34m\u001b[0m\n\u001b[0;32m      1\u001b[0m \u001b[1;31m# Analyze sentiment of the movie review\u001b[0m\u001b[1;33m\u001b[0m\u001b[1;33m\u001b[0m\u001b[1;33m\u001b[0m\u001b[0m\n\u001b[1;32m----> 2\u001b[1;33m \u001b[0msentiment\u001b[0m \u001b[1;33m=\u001b[0m \u001b[0manalyze_sentiment\u001b[0m\u001b[1;33m(\u001b[0m\u001b[0mreview_text\u001b[0m\u001b[1;33m)\u001b[0m\u001b[1;33m\u001b[0m\u001b[1;33m\u001b[0m\u001b[0m\n\u001b[0m",
      "\u001b[1;31mNameError\u001b[0m: name 'analyze_sentiment' is not defined"
     ]
    }
   ],
   "source": [
    "# Analyze sentiment of the movie review\n",
    "sentiment = analyze_sentiment(review_text)"
   ]
  },
  {
   "cell_type": "code",
   "execution_count": 8,
   "id": "a051c225",
   "metadata": {},
   "outputs": [
    {
     "name": "stdout",
     "output_type": "stream",
     "text": [
      "Sentiment: positive\n"
     ]
    }
   ],
   "source": [
    "# Print tShe sentiment result\n",
    "print(\"Sentiment: \" + sentiment)"
   ]
  },
  {
   "cell_type": "code",
   "execution_count": null,
   "id": "cff36e2b",
   "metadata": {},
   "outputs": [],
   "source": []
  },
  {
   "cell_type": "code",
   "execution_count": null,
   "id": "bee26b65",
   "metadata": {},
   "outputs": [],
   "source": []
  }
 ],
 "metadata": {
  "kernelspec": {
   "display_name": "Python 3 (ipykernel)",
   "language": "python",
   "name": "python3"
  },
  "language_info": {
   "codemirror_mode": {
    "name": "ipython",
    "version": 3
   },
   "file_extension": ".py",
   "mimetype": "text/x-python",
   "name": "python",
   "nbconvert_exporter": "python",
   "pygments_lexer": "ipython3",
   "version": "3.9.13"
  }
 },
 "nbformat": 4,
 "nbformat_minor": 5
}
